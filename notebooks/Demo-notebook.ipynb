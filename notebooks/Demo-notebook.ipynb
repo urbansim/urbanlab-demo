{
 "cells": [
  {
   "cell_type": "code",
   "execution_count": 2,
   "metadata": {},
   "outputs": [],
   "source": [
    "%matplotlib inline\n",
    "\n",
    "import numpy as np\n",
    "import pandas as pd\n",
    "import matplotlib.pyplot as plt"
   ]
  },
  {
   "cell_type": "code",
   "execution_count": 3,
   "metadata": {},
   "outputs": [],
   "source": [
    "files = [\n",
    "    'https://www.dropbox.com/s/1n370e0cxlh50fc/ARB_HIST_ALAMEDA_v3.zip?dl=1',\n",
    "    'https://www.dropbox.com/s/6owx081opq4dbfu/ARB_HIST_CONTRA_COSTA_v3.zip?dl=1',\n",
    "    'https://www.dropbox.com/s/u7gc5hotzeddu8k/ARB_HIST_MARIN_v3.zip?dl=1',\n",
    "    'https://www.dropbox.com/s/2shn4eyxn6yx12u/ARB_HIST_NAPA_v3.zip?dl=1',\n",
    "    'https://www.dropbox.com/s/hp3eyabjiy8andw/ARB_HIST_SAN_FRANCISCO_v3.zip?dl=1',\n",
    "    'https://www.dropbox.com/s/f9qg8z7ucon7htm/ARB_HIST_SAN_MATEO_v3.zip?dl=1',\n",
    "    'https://www.dropbox.com/s/iqef06jgn13g747/ARB_HIST_SANTA_CLARA_v3.zip?dl=1',\n",
    "    'https://www.dropbox.com/s/8nc4gj3t34zcrbg/ARB_HIST_SOLANO_v3.zip?dl=1',\n",
    "    'https://www.dropbox.com/s/g1vw02o3nfh5iz1/ARB_HIST_SONOMA_v3.zip?dl=1'\n",
    "]"
   ]
  },
  {
   "cell_type": "code",
   "execution_count": 4,
   "metadata": {},
   "outputs": [
    {
     "name": "stdout",
     "output_type": "stream",
     "text": [
      "CPU times: user 1min 10s, sys: 26.2 s, total: 1min 36s\n",
      "Wall time: 1min 51s\n"
     ]
    }
   ],
   "source": [
    "%%time\n",
    "df = pd.concat([pd.read_csv(url, compression='zip', low_memory=False) for url in files])"
   ]
  },
  {
   "cell_type": "code",
   "execution_count": 5,
   "metadata": {},
   "outputs": [
    {
     "data": {
      "text/plain": [
       "2147507"
      ]
     },
     "execution_count": 5,
     "metadata": {},
     "output_type": "execute_result"
    }
   ],
   "source": [
    "len(df)"
   ]
  },
  {
   "cell_type": "code",
   "execution_count": 6,
   "metadata": {},
   "outputs": [
    {
     "data": {
      "text/plain": [
       "<matplotlib.axes._subplots.AxesSubplot at 0x7f2bba5151d0>"
      ]
     },
     "execution_count": 6,
     "metadata": {},
     "output_type": "execute_result"
    },
    {
     "data": {
      "image/png": "[encoded data removed]",
      "text/plain": [
       "<Figure size 432x288 with 1 Axes>"
      ]
     },
     "metadata": {
      "needs_background": "light"
     },
     "output_type": "display_data"
    }
   ],
   "source": [
    "df.ucb_price_sqft_adj.hist(bins=50)"
   ]
  },
  {
   "cell_type": "code",
   "execution_count": 7,
   "metadata": {},
   "outputs": [
    {
     "ename": "NameError",
     "evalue": "name 'extent' is not defined",
     "output_type": "error",
     "traceback": [
      "\u001b[0;31m---------------------------------------------------------------------------\u001b[0m",
      "\u001b[0;31mNameError\u001b[0m                                 Traceback (most recent call last)",
      "\u001b[0;32m<ipython-input-7-7f3584021c81>\u001b[0m in \u001b[0;36m<module>\u001b[0;34m\u001b[0m\n\u001b[1;32m      9\u001b[0m \u001b[0mvalues\u001b[0m \u001b[0;34m=\u001b[0m \u001b[0mdata\u001b[0m\u001b[0;34m.\u001b[0m\u001b[0mucb_price_sqft_adj\u001b[0m\u001b[0;34m\u001b[0m\u001b[0;34m\u001b[0m\u001b[0m\n\u001b[1;32m     10\u001b[0m hb = ax.hexbin(data.sa_x_coord*-1, data.sa_y_coord, C=values, reduce_C_function=np.median, \n\u001b[0;32m---> 11\u001b[0;31m                 extent=extent, mincnt=50, gridsize=50, linewidths=0, cmap='viridis', zorder=2)\n\u001b[0m\u001b[1;32m     12\u001b[0m \u001b[0mcb\u001b[0m \u001b[0;34m=\u001b[0m \u001b[0mfig\u001b[0m\u001b[0;34m.\u001b[0m\u001b[0mcolorbar\u001b[0m\u001b[0;34m(\u001b[0m\u001b[0mhb\u001b[0m\u001b[0;34m,\u001b[0m \u001b[0max\u001b[0m\u001b[0;34m=\u001b[0m\u001b[0max\u001b[0m\u001b[0;34m)\u001b[0m\u001b[0;34m\u001b[0m\u001b[0;34m\u001b[0m\u001b[0m\n\u001b[1;32m     13\u001b[0m \u001b[0mcb\u001b[0m\u001b[0;34m.\u001b[0m\u001b[0mset_label\u001b[0m\u001b[0;34m(\u001b[0m\u001b[0;34m'Dollars per square foot'\u001b[0m\u001b[0;34m)\u001b[0m\u001b[0;34m\u001b[0m\u001b[0;34m\u001b[0m\u001b[0m\n",
      "\u001b[0;31mNameError\u001b[0m: name 'extent' is not defined"
     ]
    },
    {
     "data": {
      "image/png": "[encoded data removed]",
      "text/plain": [
       "<Figure size 432x288 with 1 Axes>"
      ]
     },
     "metadata": {
      "needs_background": "light"
     },
     "output_type": "display_data"
    }
   ],
   "source": [
    "fig, ax = plt.subplots()\n",
    "\n",
    "ax.set_aspect(1.1)\n",
    "ax.set_title(\"Median home sale price\")\n",
    "\n",
    "#states.plot(ax=ax, color='white', edgecolor='grey', zorder=1)\n",
    "\n",
    "data = df\n",
    "values = data.ucb_price_sqft_adj\n",
    "hb = ax.hexbin(data.sa_x_coord*-1, data.sa_y_coord, C=values, reduce_C_function=np.median, \n",
    "                extent=extent, mincnt=50, gridsize=50, linewidths=0, cmap='viridis', zorder=2)\n",
    "cb = fig.colorbar(hb, ax=ax)\n",
    "cb.set_label('Dollars per square foot')\n",
    "\n",
    "plt.show()"
   ]
  },
  {
   "cell_type": "code",
   "execution_count": null,
   "metadata": {},
   "outputs": [],
   "source": []
  },
  {
   "cell_type": "code",
   "execution_count": null,
   "metadata": {},
   "outputs": [],
   "source": []
  },
  {
   "cell_type": "code",
   "execution_count": null,
   "metadata": {},
   "outputs": [],
   "source": []
  },
  {
   "cell_type": "code",
   "execution_count": null,
   "metadata": {},
   "outputs": [],
   "source": []
  }
 ],
 "metadata": {
  "kernelspec": {
   "display_name": "Python 3",
   "language": "python",
   "name": "python3"
  },
  "language_info": {
   "codemirror_mode": {
    "name": "ipython",
    "version": 3
   },
   "file_extension": ".py",
   "mimetype": "text/x-python",
   "name": "python",
   "nbconvert_exporter": "python",
   "pygments_lexer": "ipython3",
   "version": "3.7.3"
  }
 },
 "nbformat": 4,
 "nbformat_minor": 4
}
