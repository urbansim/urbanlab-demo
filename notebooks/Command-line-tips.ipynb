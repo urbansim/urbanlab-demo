{
 "cells": [
  {
   "cell_type": "markdown",
   "metadata": {},
   "source": [
    "# Command line tips"
   ]
  },
  {
   "cell_type": "markdown",
   "metadata": {},
   "source": [
    "Two ways to use the command line:\n",
    "\n",
    "1. Open a Terminal window (File -> New -> Terminal)\n",
    "\n",
    "2. Run commands directly from a Jupyter notebook by prefacing them with `!`"
   ]
  },
  {
   "cell_type": "markdown",
   "metadata": {},
   "source": [
    "### Example\n",
    "\n",
    "Print the working directory and list the files in it:"
   ]
  },
  {
   "cell_type": "code",
   "execution_count": 4,
   "metadata": {},
   "outputs": [
    {
     "name": "stdout",
     "output_type": "stream",
     "text": [
      "/home/jovyan/urbanlab-demo/notebooks\n",
      "Command-line-tips.ipynb  Demo-notebook.ipynb\n"
     ]
    }
   ],
   "source": [
    "!pwd\n",
    "!ls"
   ]
  },
  {
   "cell_type": "code",
   "execution_count": null,
   "metadata": {},
   "outputs": [],
   "source": []
  },
  {
   "cell_type": "markdown",
   "metadata": {},
   "source": [
    "## Setting up Git and GitHub for version control\n",
    "\n",
    "(Git is the software that runs locally; GitHub is a web service that stores central copies of your Git repositories.)"
   ]
  },
  {
   "cell_type": "markdown",
   "metadata": {},
   "source": [
    "### Cloning a repo\n",
    "\n",
    "You can clone a public repo into your workspace (and pull updates to it) without any special setup. But you'll want to do this from the Terminal so that it's at the root of your user files:\n",
    "\n",
    "`git clone https://github.com/usdt/pandana.git`"
   ]
  },
  {
   "cell_type": "code",
   "execution_count": null,
   "metadata": {},
   "outputs": [],
   "source": []
  },
  {
   "cell_type": "markdown",
   "metadata": {},
   "source": [
    "### Committing changes\n",
    "\n",
    "To commit changes locally, you need to do a little bit of setup:\n",
    "\n",
    "`git config --global user.name \"Your Name\"`  \n",
    "`git config --global user.email \"your.email@domain.com\"`"
   ]
  },
  {
   "cell_type": "markdown",
   "metadata": {},
   "source": [
    "Then, you can use Git like normal:\n",
    "\n",
    "`git commit -m \"Commit message\"`"
   ]
  },
  {
   "cell_type": "code",
   "execution_count": null,
   "metadata": {},
   "outputs": [],
   "source": []
  },
  {
   "cell_type": "markdown",
   "metadata": {},
   "source": [
    "### Pushing changes to GitHub\n",
    "\n",
    "Pushing changes (or cloning a private repo) requires your github.com credentials -- you'll be prompted on the command line, or you can generate a token to store them.\n",
    "\n",
    "`git push`"
   ]
  },
  {
   "cell_type": "code",
   "execution_count": null,
   "metadata": {},
   "outputs": [],
   "source": []
  },
  {
   "cell_type": "markdown",
   "metadata": {},
   "source": [
    "## Bringing in data to UrbanLab\n",
    "\n",
    "There are a few ways to load data into UrbanLab:\n",
    "\n",
    "1. Upload it in the file browser\n",
    "\n",
    "2. Load it from a URL on the fly in Python\n",
    "\n",
    "3. Load files in a command line script, for persistence and reproducibility"
   ]
  },
  {
   "cell_type": "markdown",
   "metadata": {},
   "source": [
    "### Load data on the command line:\n",
    "\n",
    "`curl -L -J -O https://www.dropbox.com/s/1n370e0cxlh50fc/ARB_HIST_ALAMEDA_v3.zip?dl=1`\n",
    "\n",
    "-O preserves the remote filename  \n",
    "-L follows redirects, which is necessary for certain dynamic links  \n",
    "-J uses the filename from header rather than parsed from URL (helpful for dynamic links)"
   ]
  },
  {
   "cell_type": "code",
   "execution_count": null,
   "metadata": {},
   "outputs": [],
   "source": []
  },
  {
   "cell_type": "markdown",
   "metadata": {},
   "source": [
    "## Using Python virtual environments\n",
    "\n",
    "It can be helpful to maintain an explicit, consistent environment (set of packages) for each project you work on. Here's how to use custom environments in UrbanLab.\n",
    "\n",
    "First, create the environment. Be sure to include the `ipykernel` package so it can support Jupyter notebooks:\n",
    "\n",
    "`conda create --name my-env [pkg1 pkg2 pkg3 etc] ipykernel`\n",
    "\n",
    "(This command creates a Conda environment, but the same procedure should also work with other systems.)\n",
    "\n",
    "Then, register the environment with Jupyter:\n",
    "\n",
    "`ipython kernel install --user --name my-env`\n",
    "\n",
    "The virtual environment should now be available for Jupyter notebooks. To select it, open a notebook and go to Kernel -> Change Kernel... -> Start Preferred Kernel."
   ]
  },
  {
   "cell_type": "code",
   "execution_count": null,
   "metadata": {},
   "outputs": [],
   "source": []
  },
  {
   "cell_type": "markdown",
   "metadata": {},
   "source": [
    "## Limitations to using the command line from a notebook\n",
    "\n",
    "1. **No interactive commands**\n",
    "\n",
    "   You can run commands and view output, but you can't _interact_ with command-line processes, for example to enter passwords or confirm things. Terminal is best for that. \n",
    "   \n",
    "2. **No higher-level direcory access**\n",
    "\n",
    "   Notebooks run from the directory they're in, and the command-line session cannot access higher-level folders.\n",
    "\n",
    "3. **Beware multiple Python kernels**\n",
    "\n",
    "   Notebooks can change their Python kernel on the fly, which will not necessarily be in sync with the command line sesssion! So it's best to install Python packages from the Terminal."
   ]
  },
  {
   "cell_type": "code",
   "execution_count": null,
   "metadata": {},
   "outputs": [],
   "source": []
  },
  {
   "cell_type": "code",
   "execution_count": null,
   "metadata": {},
   "outputs": [],
   "source": []
  },
  {
   "cell_type": "code",
   "execution_count": null,
   "metadata": {},
   "outputs": [],
   "source": []
  }
 ],
 "metadata": {
  "kernelspec": {
   "display_name": "Python 3",
   "language": "python",
   "name": "python3"
  },
  "language_info": {
   "codemirror_mode": {
    "name": "ipython",
    "version": 3
   },
   "file_extension": ".py",
   "mimetype": "text/x-python",
   "name": "python",
   "nbconvert_exporter": "python",
   "pygments_lexer": "ipython3",
   "version": "3.7.3"
  }
 },
 "nbformat": 4,
 "nbformat_minor": 4
}
